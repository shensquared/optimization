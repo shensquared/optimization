{
  "nbformat": 4,
  "nbformat_minor": 0,
  "metadata": {
    "colab": {
      "name": "BisectionNewtonSecant.ipynb",
      "provenance": [],
      "collapsed_sections": [],
      "authorship_tag": "ABX9TyOlWaUCyPkIXP4E+sMlt48i",
      "include_colab_link": true
    },
    "kernelspec": {
      "name": "python3",
      "display_name": "Python 3"
    }
  },
  "cells": [
    {
      "cell_type": "markdown",
      "metadata": {
        "id": "view-in-github",
        "colab_type": "text"
      },
      "source": [
        "<a href=\"https://colab.research.google.com/github/shensquared/optimization/blob/master/BisectionNewtonSecant.ipynb\" target=\"_parent\"><img src=\"https://colab.research.google.com/assets/colab-badge.svg\" alt=\"Open In Colab\"/></a>"
      ]
    },
    {
      "cell_type": "markdown",
      "metadata": {
        "id": "1kVFcuFXRD1u"
      },
      "source": [
        "# Roots finding methods\n",
        "Note: a subroutine of minimizing $f(x)$ is to find the root of the $g(x)=f'(x)$, so we directly focus on root-finidng problems here. \n",
        "\n",
        "Code adapted from [Mathematical Python](https://www.math.ubc.ca/~pwalls/math-python/roots-optimization/bisection/)\n"
      ]
    },
    {
      "cell_type": "code",
      "metadata": {
        "id": "LwJwjPYlRPWm"
      },
      "source": [
        "def bisection(f,a,b,N):\n",
        "    '''Approximate solution of f(x)=0 on interval [a,b] by bisection method.\n",
        "\n",
        "    Parameters\n",
        "    ----------\n",
        "    f : function\n",
        "        The function for which we are trying to approximate a solution f(x)=0.\n",
        "    a,b : numbers\n",
        "        The interval in which to search for a solution. The function returns\n",
        "        None if f(a)*f(b) >= 0 since a solution is not guaranteed.\n",
        "    N : (positive) integer\n",
        "        The number of iterations to implement.\n",
        "\n",
        "    Returns\n",
        "    -------\n",
        "    x_N : number\n",
        "        The midpoint of the Nth interval computed by the bisection method. The\n",
        "        initial interval [a_0,b_0] is given by [a,b]. If f(m_n) == 0 for some\n",
        "        midpoint m_n = (a_n + b_n)/2, then the function returns this solution.\n",
        "        If all signs of values f(a_n), f(b_n) and f(m_n) are the same at any\n",
        "        iteration, the bisection method fails and return None.\n",
        "\n",
        "    Examples\n",
        "    --------\n",
        "    >>> f = lambda x: x**2 - x - 1\n",
        "    >>> bisection(f,1,2,25)\n",
        "    1.618033990263939\n",
        "    >>> f = lambda x: (2*x - 1)*(x - 3)\n",
        "    >>> bisection(f,0,1,10)\n",
        "    0.5\n",
        "    '''\n",
        "    if f(a)*f(b) >= 0:\n",
        "        print(\"Bisection method fails.\")\n",
        "        return None\n",
        "    a_n = a\n",
        "    b_n = b\n",
        "    for n in range(1,N+1):\n",
        "        m_n = (a_n + b_n)/2\n",
        "        # c is only used for formatting the printing, not part of Bisection\n",
        "        # algorithm\n",
        "        c = '0'+str(n) if n<10 else str(n)\n",
        "        print('iteration',c, m_n)\n",
        "        f_m_n = f(m_n)\n",
        "        if f(a_n)*f_m_n < 0:\n",
        "          #meaning at a_n and m_n, function evaluations differ sign, so the true\n",
        "          #root must be in the interval of [a_n, m_n], hence setting the next \n",
        "          # iteration's interval's right-end to be b=m_n\n",
        "            a_n = a_n\n",
        "            b_n = m_n\n",
        "        elif f(b_n)*f_m_n < 0:\n",
        "            a_n = m_n\n",
        "            b_n = b_n\n",
        "        elif f_m_n == 0:\n",
        "            print(\"Found exact solution.\")\n",
        "            return m_n\n",
        "        else:\n",
        "            print(\"Bisection method fails.\")\n",
        "            return None\n",
        "    return (a_n + b_n)/2\n",
        "\n",
        "def newton(f,Df,x0,N,epsilon=1e-30):\n",
        "    '''Approximate solution of f(x)=0 by Newton's method.\n",
        "\n",
        "    Parameters\n",
        "    ----------\n",
        "    f : function\n",
        "        Function for which we are searching for a solution f(x)=0.\n",
        "    Df : function\n",
        "        Derivative of f(x).\n",
        "    x0 : number\n",
        "        Initial guess for a solution f(x)=0.\n",
        "    epsilon : number\n",
        "        Stopping criteria is abs(f(x)) < epsilon.\n",
        "    N : integer\n",
        "        Maximum number of iterations of Newton's method.\n",
        "\n",
        "    Returns\n",
        "    -------\n",
        "    xn : number\n",
        "        Implement Newton's method: compute the linear approximation\n",
        "        of f(x) at xn and find x intercept by the formula\n",
        "            x = xn - f(xn)/Df(xn)\n",
        "        Continue until reaches max iter N and return xn.\n",
        "        If Df(xn) == 0, return None. If the number of iterations\n",
        "        exceeds max_iter, then return None.\n",
        "\n",
        "    Examples\n",
        "    --------\n",
        "    >>> f = lambda x: x**2 - x - 1\n",
        "    >>> Df = lambda x: 2*x - 1\n",
        "    >>> newton(f,Df,1,10, epsilon=1e-8)\n",
        "    Found solution after 5 iterations.\n",
        "    1.618033988749989\n",
        "    '''\n",
        "    xn = x0\n",
        "    for n in range(1,N+1):\n",
        "        fxn = f(xn)\n",
        "        c = '0'+str(n) if n<10 else str(n)\n",
        "        print('iteration',c, xn)\n",
        "        Dfxn = Df(xn)\n",
        "        if Dfxn == 0:\n",
        "            print('Zero derivative. No solution found.')\n",
        "            return None\n",
        "        xn = xn - fxn/Dfxn\n",
        "    # print('Exceeded maximum iterations. No solution found.')\n",
        "    return None\n",
        "\n",
        "def secant(f,a,b,N):\n",
        "    '''Approximate solution of f(x)=0 on interval [a,b] by the secant method.\n",
        "\n",
        "    Parameters\n",
        "    ----------\n",
        "    f : function\n",
        "        The function for which we are trying to approximate a solution f(x)=0.\n",
        "    a,b : numbers\n",
        "        The interval in which to search for a solution. The function returns\n",
        "        None if f(a)*f(b) >= 0 since a solution is not guaranteed.\n",
        "    N : (positive) integer\n",
        "        The number of iterations to implement.\n",
        "\n",
        "    Returns\n",
        "    -------\n",
        "    m_N : number\n",
        "        The x intercept of the secant line on the the Nth interval\n",
        "            m_n = a_n - f(a_n)*(b_n - a_n)/(f(b_n) - f(a_n))\n",
        "        The initial interval [a_0,b_0] is given by [a,b]. If f(m_n) == 0\n",
        "        for some intercept m_n then the function returns this solution.\n",
        "        If all signs of values f(a_n), f(b_n) and f(m_n) are the same at any\n",
        "        iterations, the secant method fails and return None.\n",
        "\n",
        "    Examples\n",
        "    --------\n",
        "    >>> f = lambda x: x**2 - x - 1\n",
        "    >>> secant(f,1,2,5)\n",
        "    1.6180257510729614\n",
        "    '''\n",
        "    if f(a)*f(b) >= 0:\n",
        "        print(\"Secant method fails.\")\n",
        "        return None\n",
        "    a_n = a\n",
        "    b_n = b\n",
        "    for n in range(1,N+1):\n",
        "        m_n = a_n - f(a_n)*(b_n - a_n)/(f(b_n) - f(a_n))\n",
        "        f_m_n = f(m_n)\n",
        "        c = '0'+str(n) if n<10 else str(n)\n",
        "        print('iteration',c, m_n)\n",
        "        if f(a_n)*f_m_n < 0:\n",
        "            a_n = a_n\n",
        "            b_n = m_n\n",
        "        elif f(b_n)*f_m_n < 0:\n",
        "            a_n = m_n\n",
        "            b_n = b_n\n",
        "        elif f_m_n == 0:\n",
        "            print(\"Found exact solution.\")\n",
        "            return m_n\n",
        "        else:\n",
        "            print(\"Secant method fails.\")\n",
        "            return None\n",
        "    return a_n - f(a_n)*(b_n - a_n)/(f(b_n) - f(a_n))\n",
        "\n",
        "\n",
        "# The following are purely for plotting\n",
        "import matplotlib.pyplot as plt\n",
        "import numpy as np\n",
        "def plot_g(g,a,b,dg=None, p1=None,p2=None):\n",
        "  x = np.linspace(a,b,100)\n",
        "  y = g(x)\n",
        "  plt.plot(x, y, label=\"g(x)\")\n",
        "  plt.plot(x,np.zeros((100,),),label='zero line')\n",
        "  plt.plot()\n",
        "  if dg is not None:\n",
        "    b1 = g(p1)-dg(p1)*p1\n",
        "    b2 = g(p2)-dg(p2)*p2\n",
        "    plt.plot(x, dg(p1)*x + b1)\n",
        "    plt.plot(x, dg(p2)*x + b2)\n",
        "\n",
        "  plt.xlabel(\"x axis\")\n",
        "  plt.ylabel(\"y axis\")\n",
        "  plt.title(\"Function g(x) to find root of\")\n",
        "  plt.legend()\n",
        "  plt.show()\n",
        "\n",
        "def plot_f():\n",
        "  a =-.5\n",
        "  b=6\n",
        "  x = np.linspace(a,b,100)\n",
        "  f=lambda x: -411.6 *x + 259.7 *x**2 - 57.4 *x**3 + 5.55* x**4 - 0.2*x**5\n",
        "  y = f(x)\n",
        "  plt.plot(x, y, label=\"f(x)\")\n",
        "  plt.plot()\n",
        "  plt.xlabel(\"x axis\")\n",
        "  plt.ylabel(\"y axis\")\n",
        "  plt.title(\"f=-411.6 x + 259.7 x² - 57.4 x³ + 5.55 x⁴ - 0.2 x⁵\", fontsize=12)\n",
        "  plt.legend()\n",
        "  plt.show()"
      ],
      "execution_count": null,
      "outputs": []
    },
    {
      "cell_type": "markdown",
      "metadata": {
        "id": "vRe9QjtlSe27"
      },
      "source": [
        "# Let's see how they work for our motivating example"
      ]
    },
    {
      "cell_type": "code",
      "metadata": {
        "id": "-_US_LpvTzl7",
        "outputId": "b978345e-9337-463d-f319-5218c42b2265",
        "colab": {
          "base_uri": "https://localhost:8080/",
          "height": 295
        }
      },
      "source": [
        "plot_f()"
      ],
      "execution_count": null,
      "outputs": [
        {
          "output_type": "display_data",
          "data": {
            "image/png": "[encoded data removed]",
            "text/plain": [
              "<Figure size 432x288 with 1 Axes>"
            ]
          },
          "metadata": {
            "tags": [],
            "needs_background": "light"
          }
        }
      ]
    },
    {
      "cell_type": "markdown",
      "metadata": {
        "id": "HTWJbwbTU2oy"
      },
      "source": [
        "To find the candidate local min for $f(x)$, we look for root of $g(x):=f'(x)$"
      ]
    },
    {
      "cell_type": "code",
      "metadata": {
        "id": "3MiKW2iVSqKF",
        "outputId": "78147994-b067-4dab-e224-61784fcf450e",
        "colab": {
          "base_uri": "https://localhost:8080/",
          "height": 295
        }
      },
      "source": [
        "g = lambda x:-(x-7)**3*(x-1.2) #expands to 411.6 - 519.4 x + 172.2 x² - 22.2 x³ + x⁴, g=f'\n",
        "dg = lambda x: -(-519.4 + 344.4*x - 66.6*x**2 + 4*x**3)\n",
        "plot_g(g,1,2)"
      ],
      "execution_count": null,
      "outputs": [
        {
          "output_type": "display_data",
          "data": {
            "image/png": "[encoded data removed]",
            "text/plain": [
              "<Figure size 432x288 with 1 Axes>"
            ]
          },
          "metadata": {
            "tags": [],
            "needs_background": "light"
          }
        }
      ]
    },
    {
      "cell_type": "code",
      "metadata": {
        "id": "R4SSyxlc6Bnh",
        "outputId": "518db387-3098-4f29-a00e-5b1c862020f5",
        "colab": {
          "base_uri": "https://localhost:8080/",
          "height": 187
        }
      },
      "source": [
        "b = bisection(g,1,3,10)"
      ],
      "execution_count": null,
      "outputs": [
        {
          "output_type": "stream",
          "text": [
            "iteration 01 2.0\n",
            "iteration 02 1.5\n",
            "iteration 03 1.25\n",
            "iteration 04 1.125\n",
            "iteration 05 1.1875\n",
            "iteration 06 1.21875\n",
            "iteration 07 1.203125\n",
            "iteration 08 1.1953125\n",
            "iteration 09 1.19921875\n",
            "iteration 10 1.201171875\n"
          ],
          "name": "stdout"
        }
      ]
    },
    {
      "cell_type": "code",
      "metadata": {
        "id": "3SYISDzY6KQB",
        "outputId": "53d80ec4-e663-409d-d2b0-20661474c54f",
        "colab": {
          "base_uri": "https://localhost:8080/",
          "height": 187
        }
      },
      "source": [
        "n = newton(g,dg,1,10)"
      ],
      "execution_count": null,
      "outputs": [
        {
          "output_type": "stream",
          "text": [
            "iteration 01 1\n",
            "iteration 02 1.1818181818181817\n",
            "iteration 03 1.1998311286236982\n",
            "iteration 04 1.199999985251265\n",
            "iteration 05 1.1999999999999997\n",
            "iteration 06 1.2\n",
            "iteration 07 1.2\n",
            "iteration 08 1.2\n",
            "iteration 09 1.2\n",
            "iteration 10 1.2\n"
          ],
          "name": "stdout"
        }
      ]
    },
    {
      "cell_type": "code",
      "metadata": {
        "id": "MnA2C7NG6TzN",
        "outputId": "343e3da7-9a84-4428-f613-7dddb95af666",
        "colab": {
          "base_uri": "https://localhost:8080/",
          "height": 187
        }
      },
      "source": [
        "s = secant(g,1,3,10)"
      ],
      "execution_count": null,
      "outputs": [
        {
          "output_type": "stream",
          "text": [
            "iteration 01 1.5454545454545454\n",
            "iteration 02 1.237388900448857\n",
            "iteration 03 1.203658638302611\n",
            "iteration 04 1.2003542120051054\n",
            "iteration 05 1.200034257435052\n",
            "iteration 06 1.2000033128565981\n",
            "iteration 07 1.2000003203658371\n",
            "iteration 08 1.200000030980566\n",
            "iteration 09 1.2000000029959355\n",
            "iteration 10 1.200000000289718\n"
          ],
          "name": "stdout"
        }
      ]
    },
    {
      "cell_type": "markdown",
      "metadata": {
        "id": "m6AlVTKPMN7J"
      },
      "source": [
        "# Differnt ways Newton's method can 'go wrong'"
      ]
    },
    {
      "cell_type": "markdown",
      "metadata": {
        "id": "kRjLQIT9MglQ"
      },
      "source": [
        "### Bad example 1 (oscillates)"
      ]
    },
    {
      "cell_type": "code",
      "metadata": {
        "id": "kGmYa13_Z6vG",
        "outputId": "f67f9f24-2406-4e5d-bf59-bbe693541f58",
        "colab": {
          "base_uri": "https://localhost:8080/",
          "height": 295
        }
      },
      "source": [
        "g_bad1 = lambda x: x**3 - 2*x +2\n",
        "dg_bad1=lambda x: 3*x**2 - 2\n",
        "plot_g(g_bad1,-2,1.5)"
      ],
      "execution_count": null,
      "outputs": [
        {
          "output_type": "display_data",
          "data": {
            "image/png": "[encoded data removed]",
            "text/plain": [
              "<Figure size 432x288 with 1 Axes>"
            ]
          },
          "metadata": {
            "tags": [],
            "needs_background": "light"
          }
        }
      ]
    },
    {
      "cell_type": "code",
      "metadata": {
        "id": "Gfr3KMao2Ip0",
        "outputId": "d9481b17-39d1-4b8a-964e-4cb51958bd87",
        "colab": {
          "base_uri": "https://localhost:8080/",
          "height": 187
        }
      },
      "source": [
        "n_bad1 = newton(g_bad1,dg_bad1,0,10)"
      ],
      "execution_count": null,
      "outputs": [
        {
          "output_type": "stream",
          "text": [
            "iteration 01 0\n",
            "iteration 02 1.0\n",
            "iteration 03 0.0\n",
            "iteration 04 1.0\n",
            "iteration 05 0.0\n",
            "iteration 06 1.0\n",
            "iteration 07 0.0\n",
            "iteration 08 1.0\n",
            "iteration 09 0.0\n",
            "iteration 10 1.0\n"
          ],
          "name": "stdout"
        }
      ]
    },
    {
      "cell_type": "markdown",
      "metadata": {
        "id": "xBlQRZLkMZNQ"
      },
      "source": [
        "Why so? Let's plot out the tangent lines... "
      ]
    },
    {
      "cell_type": "code",
      "metadata": {
        "id": "JvmCWvQP4lNW",
        "outputId": "e3e86ff6-31b5-4b17-e41b-81cf24689744",
        "colab": {
          "base_uri": "https://localhost:8080/",
          "height": 295
        }
      },
      "source": [
        "plot_g(g_bad1,-2,1.5, dg_bad1,0,1)"
      ],
      "execution_count": null,
      "outputs": [
        {
          "output_type": "display_data",
          "data": {
            "image/png": "[encoded data removed]",
            "text/plain": [
              "<Figure size 432x288 with 1 Axes>"
            ]
          },
          "metadata": {
            "tags": [],
            "needs_background": "light"
          }
        }
      ]
    },
    {
      "cell_type": "markdown",
      "metadata": {
        "id": "yo7yRmGvMlr0"
      },
      "source": [
        "### Bad example 2 (diverges)"
      ]
    },
    {
      "cell_type": "code",
      "metadata": {
        "id": "C_PIe1R82iet",
        "outputId": "6ad5b584-ec03-4c7b-d0a2-de4e9c165d5e",
        "colab": {
          "base_uri": "https://localhost:8080/",
          "height": 295
        }
      },
      "source": [
        "g_bad2 = lambda x: 30* np.arctan(x) + 2*x\n",
        "dg_bad2=lambda x: 30/(1+(x)**2) + 2\n",
        "plot_g(g_bad2,-3,2)"
      ],
      "execution_count": null,
      "outputs": [
        {
          "output_type": "display_data",
          "data": {
            "image/png": "[encoded data removed]",
            "text/plain": [
              "<Figure size 432x288 with 1 Axes>"
            ]
          },
          "metadata": {
            "tags": [],
            "needs_background": "light"
          }
        }
      ]
    },
    {
      "cell_type": "code",
      "metadata": {
        "id": "dr5_20Iz21OF",
        "outputId": "e2aac7bb-5683-4ec6-91bd-235a4d1c9abc",
        "colab": {
          "base_uri": "https://localhost:8080/",
          "height": 187
        }
      },
      "source": [
        "n_bad2 = newton(g_bad2,dg_bad2,2,10)"
      ],
      "execution_count": null,
      "outputs": [
        {
          "output_type": "stream",
          "text": [
            "iteration 01 2\n",
            "iteration 02 -2.6518076917278393\n",
            "iteration 03 4.60346823295529\n",
            "iteration 04 -10.287948780125504\n",
            "iteration 05 18.120156218978632\n",
            "iteration 06 -20.955261867862188\n",
            "iteration 07 21.4030471541725\n",
            "iteration 08 -21.461106011682343\n",
            "iteration 09 21.46842428563779\n",
            "iteration 10 -21.46934342619276\n"
          ],
          "name": "stdout"
        }
      ]
    },
    {
      "cell_type": "code",
      "metadata": {
        "id": "d4hPDbJonbvy",
        "outputId": "2e5b0fa2-3ea2-467d-bdec-0de21cdd65d5",
        "colab": {
          "base_uri": "https://localhost:8080/",
          "height": 187
        }
      },
      "source": [
        " #even though trying a different starting point 1 actually converges\n",
        "newton(g_bad2,dg_bad2,1,10)"
      ],
      "execution_count": null,
      "outputs": [
        {
          "output_type": "stream",
          "text": [
            "iteration 01 1\n",
            "iteration 02 -0.5036438177602027\n",
            "iteration 03 0.07499276542612121\n",
            "iteration 04 -0.000263207288816375\n",
            "iteration 05 1.1396559043697074e-11\n",
            "iteration 06 0.0\n",
            "iteration 07 0.0\n",
            "iteration 08 0.0\n",
            "iteration 09 0.0\n",
            "iteration 10 0.0\n"
          ],
          "name": "stdout"
        }
      ]
    },
    {
      "cell_type": "markdown",
      "metadata": {
        "id": "e-D05acLMqgB"
      },
      "source": [
        "### Bad example 3: (Newton's Fractal)\n",
        "Finding roots to $g(z)=z^5-1$.\n",
        "\n",
        "[Animation](https://chrizbee.github.io/NewtonFractal/)"
      ]
    }
  ]
}